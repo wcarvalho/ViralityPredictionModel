{
 "cells": [
  {
   "cell_type": "markdown",
   "metadata": {},
   "source": [
    "# Twitter Statistics\n",
    "## 1. Posts\n",
    "### 1.1 Posts before sampling:\n",
    "* Number of posts (including retweets): 74,717,433\n",
    "* Number of original posts: 31,441,359\n",
    "### 1.2 Posts fter sampling:\n",
    "* Number of posts: 49,314,621\n",
    "* Number of original posts: 9,261,059\n",
    "\n",
    "## 2. Users\n",
    "### 2.1 Users before sampling:\n",
    "* Number of users: 18,380,969\n",
    "* Number of users who post original tweets: 6,062,408\n",
    "* Max number of posts per user:  32,157\n",
    "* Max number of original posts per user:  31,847\n",
    "* Average number of posts per user:  5.775473099377949\n",
    "* Average number of original posts per user:  1.7105387099015292\n",
    "* Median of number of posts per user:  2\n",
    "* Median of number of original posts per user:  0"
   ]
  },
  {
   "cell_type": "code",
   "execution_count": 1,
   "metadata": {},
   "outputs": [],
   "source": [
    "import pickle\n",
    "import statistics\n",
    "import os\n",
    "import matplotlib.pyplot as plt\n",
    "import numpy as np"
   ]
  },
  {
   "cell_type": "code",
   "execution_count": 2,
   "metadata": {},
   "outputs": [
    {
     "name": "stdout",
     "output_type": "stream",
     "text": [
      "Number of users:  18380969\n",
      "Max number of posts per user:  32157\n",
      "Max number of original posts per user:  31847\n",
      "Average number of posts per user:  5.775473099377949\n",
      "Average number of original posts per user:  1.7105387099015292\n",
      "Median of number of posts per user:  2\n",
      "Median of number of original posts per user:  0\n"
     ]
    }
   ],
   "source": [
    "max_bytes = 2**31 - 1\n",
    "bytes_in = bytearray(0)\n",
    "input_size = os.path.getsize('../data/posts_per_user_before.pickle')\n",
    "with open('../data/posts_per_user_before.pickle','rb') as f:\n",
    "    for _ in range(0, input_size, max_bytes):\n",
    "        bytes_in += f.read(max_bytes)\n",
    "posts_per_user = pickle.loads(bytes_in)\n",
    "\n",
    "post_cnts = []\n",
    "orig_post_cnts = []\n",
    "\n",
    "for userID, pcnt in posts_per_user.items():\n",
    "    orig_post_cnts.append(pcnt[0])\n",
    "    post_cnts.append(pcnt[1])\n",
    "    \n",
    "user_num = len(posts_per_user)\n",
    "print('Number of users: ', user_num)\n",
    "print('Max number of posts per user: ', max(post_cnts))\n",
    "print('Max number of original posts per user: ', max(orig_post_cnts))\n",
    "print('Average number of posts per user: ', sum(post_cnts)/user_num)\n",
    "print('Average number of original posts per user: ', sum(orig_post_cnts)/user_num)\n",
    "print('Median of number of posts per user: ', statistics.median(post_cnts))\n",
    "print('Median of number of original posts per user: ', statistics.median(orig_post_cnts))"
   ]
  },
  {
   "cell_type": "code",
   "execution_count": 3,
   "metadata": {},
   "outputs": [],
   "source": [
    "post_num = [i for i in range(32158)]\n",
    "post_freq = np.zeros(32158)\n",
    "\n",
    "orig_num = [i for i in range(31848)]\n",
    "orig_freq = np.zeros(31848)\n",
    "\n",
    "for userID, pcnt in posts_per_user.items():\n",
    "    post_freq[pcnt[1]] += 1\n",
    "    orig_freq[pcnt[0]] += 1"
   ]
  },
  {
   "cell_type": "code",
   "execution_count": 4,
   "metadata": {},
   "outputs": [
    {
     "name": "stderr",
     "output_type": "stream",
     "text": [
      "/anaconda3/lib/python3.7/site-packages/ipykernel_launcher.py:1: RuntimeWarning: divide by zero encountered in log\n",
      "  \"\"\"Entry point for launching an IPython kernel.\n"
     ]
    },
    {
     "data": {
      "image/png": "[encoded data removed]",
      "text/plain": [
       "<Figure size 432x288 with 1 Axes>"
      ]
     },
     "metadata": {
      "needs_background": "light"
     },
     "output_type": "display_data"
    }
   ],
   "source": [
    "plt.scatter(np.log(post_num), np.log(post_freq))\n",
    "plt.xlabel('number of posts per user')\n",
    "plt.ylabel('frequency')\n",
    "plt.show()"
   ]
  },
  {
   "cell_type": "code",
   "execution_count": 5,
   "metadata": {},
   "outputs": [
    {
     "name": "stderr",
     "output_type": "stream",
     "text": [
      "/anaconda3/lib/python3.7/site-packages/ipykernel_launcher.py:1: RuntimeWarning: divide by zero encountered in log\n",
      "  \"\"\"Entry point for launching an IPython kernel.\n"
     ]
    },
    {
     "data": {
      "image/png": "[encoded data removed]",
      "text/plain": [
       "<Figure size 432x288 with 1 Axes>"
      ]
     },
     "metadata": {
      "needs_background": "light"
     },
     "output_type": "display_data"
    }
   ],
   "source": [
    "plt.scatter(np.log(orig_num), np.log(orig_freq))\n",
    "plt.xlabel('number of original posts per user')\n",
    "plt.ylabel('frequency')\n",
    "plt.show()"
   ]
  },
  {
   "cell_type": "markdown",
   "metadata": {},
   "source": [
    "### 2.2 Users after sampling:\n",
    "* Number of users: 13,132,514\n",
    "* Number of users who post original tweets: 1,788,834\n",
    "* Max number of posts per user: 16,462\n",
    "* Max number of original posts per user: 16,462\n",
    "* Average number of posts per user: 4.460418774348917\n",
    "* Average number of original posts per user: 0.705200771154708\n",
    "* Median of number of posts per user: 1\n",
    "* Median of number of original posts per user: 0"
   ]
  },
  {
   "cell_type": "code",
   "execution_count": 2,
   "metadata": {},
   "outputs": [
    {
     "name": "stdout",
     "output_type": "stream",
     "text": [
      "Number of users:  13132514\n",
      "Max number of posts per user:  16462\n",
      "Max number of original posts per user:  16462\n",
      "Average number of posts per user:  4.460418774348917\n",
      "Average number of original posts per user:  0.705200771154708\n",
      "Median of number of posts per user:  1.0\n",
      "Median of number of original posts per user:  0.0\n"
     ]
    }
   ],
   "source": [
    "with open('../data/posts_per_user.pickle','rb') as f:\n",
    "    posts_per_user = pickle.load(f)\n",
    "\n",
    "post_cnts = []\n",
    "orig_post_cnts = []\n",
    "\n",
    "for userID, pcnt in posts_per_user.items():\n",
    "    orig_post_cnts.append(pcnt[0])\n",
    "    post_cnts.append(pcnt[1])\n",
    "    \n",
    "user_num = len(posts_per_user)\n",
    "print('Number of users: ', user_num)\n",
    "print('Max number of posts per user: ', max(post_cnts))\n",
    "print('Max number of original posts per user: ', max(orig_post_cnts))\n",
    "print('Average number of posts per user: ', sum(post_cnts)/user_num)\n",
    "print('Average number of original posts per user: ', sum(orig_post_cnts)/user_num)\n",
    "print('Median of number of posts per user: ', statistics.median(post_cnts))\n",
    "print('Median of number of original posts per user: ', statistics.median(orig_post_cnts))"
   ]
  },
  {
   "cell_type": "code",
   "execution_count": 3,
   "metadata": {},
   "outputs": [],
   "source": [
    "post_num = [i for i in range(16463)]\n",
    "post_freq = np.zeros(16463)\n",
    "orig_freq = np.zeros(16463)\n",
    "\n",
    "for userID, pcnt in posts_per_user.items():\n",
    "    post_freq[pcnt[1]] += 1\n",
    "    orig_freq[pcnt[0]] += 1"
   ]
  },
  {
   "cell_type": "code",
   "execution_count": 4,
   "metadata": {},
   "outputs": [
    {
     "name": "stderr",
     "output_type": "stream",
     "text": [
      "/anaconda3/lib/python3.7/site-packages/ipykernel_launcher.py:1: RuntimeWarning: divide by zero encountered in log\n",
      "  \"\"\"Entry point for launching an IPython kernel.\n"
     ]
    },
    {
     "data": {
      "image/png": "[encoded data removed]",
      "text/plain": [
       "<Figure size 432x288 with 1 Axes>"
      ]
     },
     "metadata": {
      "needs_background": "light"
     },
     "output_type": "display_data"
    }
   ],
   "source": [
    "plt.scatter(np.log(post_num), np.log(post_freq))\n",
    "plt.xlabel('number of posts per user')\n",
    "plt.ylabel('frequency')\n",
    "plt.show()"
   ]
  },
  {
   "cell_type": "code",
   "execution_count": 5,
   "metadata": {},
   "outputs": [
    {
     "name": "stderr",
     "output_type": "stream",
     "text": [
      "/anaconda3/lib/python3.7/site-packages/ipykernel_launcher.py:1: RuntimeWarning: divide by zero encountered in log\n",
      "  \"\"\"Entry point for launching an IPython kernel.\n"
     ]
    },
    {
     "data": {
      "image/png": "[encoded data removed]",
      "text/plain": [
       "<Figure size 432x288 with 1 Axes>"
      ]
     },
     "metadata": {
      "needs_background": "light"
     },
     "output_type": "display_data"
    }
   ],
   "source": [
    "plt.scatter(np.log(post_num), np.log(orig_freq))\n",
    "plt.xlabel('number of original posts per user')\n",
    "plt.ylabel('frequency')\n",
    "plt.show()"
   ]
  },
  {
   "cell_type": "markdown",
   "metadata": {},
   "source": [
    "## 3. Trees\n",
    "### 3.1 Trees before sampling:\n",
    "* Number of trees: 31,441,359\n",
    "* Max size of trees: 39,656\n",
    "* Average size of trees: 2.3733628053418427\n",
    "* Median of sizes of trees: 1"
   ]
  },
  {
   "cell_type": "code",
   "execution_count": 2,
   "metadata": {},
   "outputs": [
    {
     "name": "stdout",
     "output_type": "stream",
     "text": [
      "Number of trees:  31441359\n",
      "Max size of trees:  39656\n",
      "Average size of trees:  2.3733628053418427\n",
      "Median of sizes of trees:  1\n"
     ]
    }
   ],
   "source": [
    "with open('../data/tree_size_before.pickle','rb') as f:\n",
    "    tree_size = pickle.load(f)\n",
    "\n",
    "tsizes = []\n",
    "\n",
    "for postID, tsize in tree_size:\n",
    "    tsizes.append(tsize)\n",
    "    \n",
    "tree_num = len(tsizes)\n",
    "print('Number of trees: ', tree_num)\n",
    "print('Max size of trees: ', max(tsizes))\n",
    "print('Average size of trees: ', sum(tsizes)/tree_num)\n",
    "print('Median of sizes of trees: ', statistics.median(tsizes))"
   ]
  },
  {
   "cell_type": "code",
   "execution_count": 3,
   "metadata": {},
   "outputs": [
    {
     "name": "stderr",
     "output_type": "stream",
     "text": [
      "/anaconda3/lib/python3.7/site-packages/ipykernel_launcher.py:7: RuntimeWarning: divide by zero encountered in log\n",
      "  import sys\n"
     ]
    },
    {
     "data": {
      "image/png": "[encoded data removed]",
      "text/plain": [
       "<Figure size 432x288 with 1 Axes>"
      ]
     },
     "metadata": {
      "needs_background": "light"
     },
     "output_type": "display_data"
    }
   ],
   "source": [
    "tree_sizes = [i for i in range(39657)]\n",
    "tsize_freq = np.zeros(39657)\n",
    "\n",
    "for t in tsizes:\n",
    "    tsize_freq[t] += 1\n",
    "\n",
    "plt.scatter(np.log(tree_sizes), np.log(tsize_freq))\n",
    "plt.xlabel('tree size')\n",
    "plt.ylabel('frequency')\n",
    "plt.show()"
   ]
  },
  {
   "cell_type": "markdown",
   "metadata": {},
   "source": [
    "### 3.2 After sampling:\n",
    "* Number of trees: 9,261,059\n",
    "* Max size of trees: 39,549\n",
    "* Average size of trees: 5.314982552211362\n",
    "* Median of sizes of trees: 2"
   ]
  },
  {
   "cell_type": "code",
   "execution_count": 2,
   "metadata": {},
   "outputs": [
    {
     "name": "stdout",
     "output_type": "stream",
     "text": [
      "Number of trees:  9261059\n",
      "Max size of trees:  39549\n",
      "Average size of trees:  5.314982552211362\n",
      "Median of sizes of trees:  2\n"
     ]
    }
   ],
   "source": [
    "with open('../data/tree_size.pickle','rb') as f:\n",
    "    tree_size = pickle.load(f)\n",
    "\n",
    "tsizes = []\n",
    "\n",
    "for postID, tsize in tree_size:\n",
    "    tsizes.append(tsize)\n",
    "    \n",
    "tree_num = len(tsizes)\n",
    "print('Number of trees: ', tree_num)\n",
    "print('Max size of trees: ', max(tsizes))\n",
    "print('Average size of trees: ', sum(tsizes)/tree_num)\n",
    "print('Median of sizes of trees: ', statistics.median(tsizes))"
   ]
  },
  {
   "cell_type": "code",
   "execution_count": 3,
   "metadata": {},
   "outputs": [
    {
     "name": "stderr",
     "output_type": "stream",
     "text": [
      "/anaconda3/lib/python3.7/site-packages/ipykernel_launcher.py:7: RuntimeWarning: divide by zero encountered in log\n",
      "  import sys\n"
     ]
    },
    {
     "data": {
      "image/png": "[encoded data removed]",
      "text/plain": [
       "<Figure size 432x288 with 1 Axes>"
      ]
     },
     "metadata": {
      "needs_background": "light"
     },
     "output_type": "display_data"
    }
   ],
   "source": [
    "tree_sizes = [i for i in range(39657)]\n",
    "tsize_freq = np.zeros(39657)\n",
    "\n",
    "for t in tsizes:\n",
    "    tsize_freq[t] += 1\n",
    "\n",
    "plt.scatter(np.log(tree_sizes), np.log(tsize_freq))\n",
    "plt.xlabel('tree size')\n",
    "plt.ylabel('frequency')\n",
    "plt.show()"
   ]
  },
  {
   "cell_type": "code",
   "execution_count": null,
   "metadata": {},
   "outputs": [],
   "source": []
  }
 ],
 "metadata": {
  "kernelspec": {
   "display_name": "Python 3",
   "language": "python",
   "name": "python3"
  },
  "language_info": {
   "codemirror_mode": {
    "name": "ipython",
    "version": 3
   },
   "file_extension": ".py",
   "mimetype": "text/x-python",
   "name": "python",
   "nbconvert_exporter": "python",
   "pygments_lexer": "ipython3",
   "version": "3.7.1"
  }
 },
 "nbformat": 4,
 "nbformat_minor": 2
}
